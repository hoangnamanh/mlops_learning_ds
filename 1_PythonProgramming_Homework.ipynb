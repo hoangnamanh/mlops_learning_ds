{
  "nbformat": 4,
  "nbformat_minor": 0,
  "metadata": {
    "colab": {
      "name": "1.PythonProgramming_Homework.ipynb",
      "provenance": [],
      "collapsed_sections": [],
      "include_colab_link": true
    },
    "kernelspec": {
      "name": "python3",
      "display_name": "Python 3"
    },
    "language_info": {
      "name": "python"
    }
  },
  "cells": [
    {
      "cell_type": "markdown",
      "metadata": {
        "id": "view-in-github",
        "colab_type": "text"
      },
      "source": [
        "<a href=\"https://colab.research.google.com/github/hoangnamanh/mlops_learning_ds/blob/main/1_PythonProgramming_Homework.ipynb\" target=\"_parent\"><img src=\"https://colab.research.google.com/assets/colab-badge.svg\" alt=\"Open In Colab\"/></a>"
      ]
    },
    {
      "cell_type": "markdown",
      "metadata": {
        "id": "DIHw5MQJDS4-"
      },
      "source": [
        "# 1. Data Structure (mỗi câu 0.5)\n",
        "\n",
        "Cho một dictionary gồm tên và điểm số."
      ]
    },
    {
      "cell_type": "code",
      "execution_count": null,
      "metadata": {
        "id": "DxxhVWlqDcap"
      },
      "outputs": [],
      "source": [
        "points = {'an': 9, 'binh': 7, 'khanh': 8, 'linh': 10, 'huyen': 6}"
      ]
    },
    {
      "cell_type": "markdown",
      "metadata": {
        "id": "i-6mwO4zD2it"
      },
      "source": [
        "1. Hãy sắp xếp dictionary trên theo điểm số tăng dần.\n",
        "2. Hãy tạo một dictionary có key là điểm số và giá trị là tên."
      ]
    },
    {
      "cell_type": "code",
      "source": [
        "print(sorted(points.items())) #ra list moi phan tu la mot tuple\n",
        "print(sorted(points.items()[0][1])) #truy cap vao value cua tuple\n",
        "print(sorted(points.items(), key = lambda x : x[1]))  # x cua lambda la phan tu trong list = tuple -> x[1] la value"
      ],
      "metadata": {
        "id": "9Mjp8x9lvuVq"
      },
      "execution_count": null,
      "outputs": []
    },
    {
      "cell_type": "code",
      "source": [
        "{k: v for k, v in sorted(points.items(), key = lambda x : x[1])} #vi dict tu dong sort theo key de toi uu xu ly nen khi goi k dung thu tu da sap xep\n",
        "print({k: v for k, v in sorted(points.items(), key = lambda x : x[1])}) #print se the hien dung thu tu trong dict"
      ],
      "metadata": {
        "colab": {
          "base_uri": "https://localhost:8080/"
        },
        "id": "wqC0hMWbvf-1",
        "outputId": "e52feb7b-4653-4efa-b99f-65d51ae5efd3"
      },
      "execution_count": null,
      "outputs": [
        {
          "output_type": "execute_result",
          "data": {
            "text/plain": [
              "{'an': 9, 'binh': 7, 'huyen': 6, 'khanh': 8, 'linh': 10}"
            ]
          },
          "metadata": {},
          "execution_count": 5
        }
      ]
    },
    {
      "cell_type": "code",
      "source": [
        "sort_points = {}\n",
        "for k, v in sorted(points.items(), key = lambda x : x[1]):\n",
        "  sort_points[k] = v\n",
        "print(sort_points)"
      ],
      "metadata": {
        "id": "zT43Ew17Ov3g",
        "colab": {
          "base_uri": "https://localhost:8080/"
        },
        "outputId": "5c5cb838-72bc-4259-c445-204646613071"
      },
      "execution_count": null,
      "outputs": [
        {
          "output_type": "stream",
          "name": "stdout",
          "text": [
            "{'huyen': 6, 'binh': 7, 'khanh': 8, 'an': 9, 'linh': 10}\n"
          ]
        }
      ]
    },
    {
      "cell_type": "code",
      "source": [
        "{k: v for v, k in points.items()}"
      ],
      "metadata": {
        "colab": {
          "base_uri": "https://localhost:8080/"
        },
        "id": "Bne8eNmwvddO",
        "outputId": "e2da0b73-6c35-41fa-e437-f68ccebcec57"
      },
      "execution_count": null,
      "outputs": [
        {
          "output_type": "execute_result",
          "data": {
            "text/plain": [
              "{6: 'huyen', 7: 'binh', 8: 'khanh', 9: 'an', 10: 'linh'}"
            ]
          },
          "metadata": {},
          "execution_count": 6
        }
      ]
    },
    {
      "cell_type": "markdown",
      "source": [
        "Cho câu văn sau:\n",
        "\n",
        "`vi mot cong dong AI vung vung manh manh hon`"
      ],
      "metadata": {
        "id": "O3LkW11f2iuk"
      }
    },
    {
      "cell_type": "code",
      "source": [
        "sent = \"vi mot cong dong AI vung vung manh manh hon\"\n",
        "sent.split()"
      ],
      "metadata": {
        "colab": {
          "base_uri": "https://localhost:8080/"
        },
        "id": "DQyV3kWHvcwG",
        "outputId": "93c81843-cb2b-4941-b53a-1175bf52da17"
      },
      "execution_count": null,
      "outputs": [
        {
          "output_type": "execute_result",
          "data": {
            "text/plain": [
              "['vi', 'mot', 'cong', 'dong', 'AI', 'vung', 'vung', 'manh', 'manh', 'hon']"
            ]
          },
          "metadata": {},
          "execution_count": 7
        }
      ]
    },
    {
      "cell_type": "markdown",
      "metadata": {
        "id": "vXu9wuUIEbO8"
      },
      "source": [
        "3. Phân tách câu văn trên thành một list theo khoảng trắng.\n",
        "4. Tìm các giá trị duy nhất của list đó.\n",
        "5. Đếm số lần lặp lại của mỗi phần tử trong list.\n",
        "6. Xóa các phần tử trong list mà có chữ cái bắt đầu là `v`.\n",
        "\n",
        "7. Đảo ngược vị trí các phần tử trong list."
      ]
    },
    {
      "cell_type": "code",
      "source": [
        "ls = sent.split()\n",
        "ls_copy = ls[:]\n",
        "list(set(ls_copy)) #tranh thay doi ls"
      ],
      "metadata": {
        "colab": {
          "base_uri": "https://localhost:8080/"
        },
        "id": "Tv6ClK-twox-",
        "outputId": "e56ba789-4ab6-4019-ce1a-74630bd70cf2"
      },
      "execution_count": null,
      "outputs": [
        {
          "output_type": "execute_result",
          "data": {
            "text/plain": [
              "['vi', 'mot', 'manh', 'hon', 'cong', 'vung', 'dong', 'AI']"
            ]
          },
          "metadata": {},
          "execution_count": 8
        }
      ]
    },
    {
      "cell_type": "code",
      "source": [
        "i = 0\n",
        "sort_ls = sorted(ls)\n",
        "while i < len(ls):\n",
        "  count = 1\n",
        "  j = i + 1\n",
        "  while j < len(ls):\n",
        "    if ls[i] == ls[j]:\n",
        "      count +=1\n",
        "      j += 1\n",
        "    else:\n",
        "      break\n",
        "  print(ls[i], count)\n",
        "  i += count"
      ],
      "metadata": {
        "colab": {
          "base_uri": "https://localhost:8080/"
        },
        "id": "aMuJcVuVxkrq",
        "outputId": "ff6086f0-5903-47f8-eb7f-741b2fb74457"
      },
      "execution_count": null,
      "outputs": [
        {
          "output_type": "stream",
          "name": "stdout",
          "text": [
            "vi 1\n",
            "mot 1\n",
            "cong 1\n",
            "dong 1\n",
            "AI 1\n",
            "vung 2\n",
            "manh 2\n",
            "hon 1\n"
          ]
        }
      ]
    },
    {
      "cell_type": "code",
      "source": [
        "[item for item in ls if item[0] != \"v\"]"
      ],
      "metadata": {
        "colab": {
          "base_uri": "https://localhost:8080/"
        },
        "id": "iB2kbSnKxIYY",
        "outputId": "ff3b0b98-25dd-4ea5-c3d1-f6ee303eaecc"
      },
      "execution_count": null,
      "outputs": [
        {
          "output_type": "execute_result",
          "data": {
            "text/plain": [
              "['mot', 'cong', 'dong', 'AI', 'manh', 'manh', 'hon']"
            ]
          },
          "metadata": {},
          "execution_count": 11
        }
      ]
    },
    {
      "cell_type": "code",
      "source": [
        "reversed_ls = []\n",
        "i = len(ls) - 1\n",
        "while i >= 0:\n",
        "  i -= 1\n",
        "  reversed_ls.append(ls[i])\n",
        "reversed_ls"
      ],
      "metadata": {
        "colab": {
          "base_uri": "https://localhost:8080/"
        },
        "id": "sFQ4bSQnxrqx",
        "outputId": "89ee6116-5c34-4894-c2dc-e45b9ce6bbbd"
      },
      "execution_count": null,
      "outputs": [
        {
          "output_type": "execute_result",
          "data": {
            "text/plain": [
              "['manh', 'manh', 'vung', 'vung', 'AI', 'dong', 'cong', 'mot', 'vi', 'hon']"
            ]
          },
          "metadata": {},
          "execution_count": 13
        }
      ]
    },
    {
      "cell_type": "markdown",
      "metadata": {
        "id": "S4AeWcFTFMpb"
      },
      "source": [
        "8. (1.5 điểm) Viết một trò chơi dự đoán chữ số may mắn có luật chơi như sau:\n",
        "\n",
        "Chương trình sẽ khởi tạo một chữ số ngẫu nhiên. Người chơi sẽ nhập 1 giá trị từ bàn phím. Nếu chữ số nhập vào bằng số ngẫu nhiên thì in ra `you are wined!` và kết thúc chương trình. Nếu số nhập vào lớn hơn số ngẫu nhiên thì in ra gợi ý `your guess should be less than {số vừa nhập}`. Nếu số nhập vào nhỏ hơn số ngẫu nhiên thì in ra gợi ý `your guess should be greater than {số vừa nhập}`. Số lượt chơi không được vượt quá 5.\n"
      ]
    },
    {
      "cell_type": "code",
      "source": [
        "import random\n",
        "player_fill = input(\"Nhap 01 chu so duy nhat vao: \")\n",
        "try:\n",
        "  convert_fill = int(player_fill)\n",
        "  if convert_fill >= 0 and convert_fill < 10:\n",
        "    seed = random.randrange(0,10)\n",
        "    if convert_fill == seed:\n",
        "      print(\"you are wined!\")\n",
        "    elif convert_fill > seed:\n",
        "      print(f\"your guess should be less than {convert_fill}\")\n",
        "    else:\n",
        "      print(f\"your guess should be greater than {convert_fill}\")\n",
        "  else:\n",
        "    print(\"Ban dang nhap qua qua 01 chu so\")\n",
        "except:\n",
        "  print(\"Sai dinh dang so nguyen\")"
      ],
      "metadata": {
        "colab": {
          "base_uri": "https://localhost:8080/"
        },
        "id": "2MwB9_Eb3J_J",
        "outputId": "53d24fb3-5ee5-4598-d990-6ff3f1a96237"
      },
      "execution_count": null,
      "outputs": [
        {
          "output_type": "stream",
          "name": "stdout",
          "text": [
            "Nhap 01 chu so duy nhat vao: 7\n",
            "your guess should be less than 7\n"
          ]
        }
      ]
    },
    {
      "cell_type": "markdown",
      "metadata": {
        "id": "XMqXOsjiVXR9"
      },
      "source": [
        "# 2. Class and Module (mỗi câu 1 điểm)\n",
        "\n",
        "1. Hãy xây dựng một class AI với hai thuộc tính là algorithm (tên thuật toán) và model_type (dạng thuật toán dự báo hay phân loại) trong hàm tạo (_constructor_).\n",
        "\n",
        "2. Viết thêm hai phương thức cho class AI là `fit` (huấn luyện) với đầu vào là các tham số `model, X_train, y_train` và `predict` (dự báo) với đầu vào là các tham số `model, X_pred`. (Không cần phải lấy dữ liệu thật, chỉ cần print ra các đối số bên trong mỗi hàm).\n",
        "\n",
        "3. Khởi tạo object cho class AI và gọi các hàm phương thức vừa thêm mới trong câu lệnh `if __name__ == '__main__'`.\n",
        "\n",
        "4. Xây dựng một class DeepLearning kế thừa từ AI. Trong class này có một hàm mở rộng là `train_on_epoch` (huấn luyện trên từng epoch) với đầu vào là `model, X_train, y_train, epoch` và hàm viết đè là `fit` có thêm tham số `learning_rate`.\n",
        "\n",
        "5. Tổ chức project thành các module, những module này gồm các files: \n",
        "- `model.py`: chứa class `DeepLearning` và class `AI`.\n",
        "- `dataset.py`: chứa class `Dataset`, tự xây dựng hàm tạo cho class này với hai thuộc tính là `input_datas` và `labels`.\n",
        "- `train.py`: import hai class là `DeepLearning` và `Dataset` từ hai module `model.py` và `dataset.py`, khởi tạo các object của hai class này và sử dụng các hàm phương thức của nó."
      ]
    },
    {
      "cell_type": "code",
      "source": [
        "#write code ra file py o folder tren colab (k luu drive), se luu lai cho nhung lan chay sau co the import\n",
        "%%writefile model.py \n",
        "class Ai:\n",
        "  def __init__(self, algorithm, model_type):\n",
        "    self.algorithm = algorithm\n",
        "    self.model_type = model_type\n",
        "  def fit(self, model, X_train, y_train):\n",
        "    print(f\"mo hinh {model} thuoc loai {self.model_type}va feat {X_train}, nhan {y_train} voi thuat toan {self.algorithm}\")\n",
        "  def pred(self, model, X_pred):\n",
        "    print(f\"mo hinh {model} va du bao {X_pred}\")\n",
        "if __name__ == '__main__':\n",
        "  Ai(\"lgbm\",\"classification\").fit(\"predict_churn\",\"rfm\",\"loyalty\")\n",
        "  Ai(\"lgbm\",\"classification\").pred(\"predict_churn\",\"rfm\")\n",
        "\n",
        "class DeepLearning(Ai):\n",
        "  def fit(self, model, X_train, y_train,learning_rate):\n",
        "    print(f\"mo hinh {model} va feat {X_train}, nhan {y_train} va tham so toc do hoc {learning_rate}\")\n",
        "  def train_on_epoch(self, model, X_train, y_train, epoch):\n",
        "    print(f\"mo hinh {model} thuoc loai {self.model_type}va feat {X_train}, nhan {y_train} voi thuat toan {self.algorithm} va tham so {epoch}\")"
      ],
      "metadata": {
        "colab": {
          "base_uri": "https://localhost:8080/"
        },
        "id": "UJYaoWUG6p_l",
        "outputId": "54929955-ebee-4563-9d03-0e646e430504"
      },
      "execution_count": null,
      "outputs": [
        {
          "output_type": "stream",
          "name": "stdout",
          "text": [
            "Writing model.py\n"
          ]
        }
      ]
    },
    {
      "cell_type": "markdown",
      "source": [
        "# New Section"
      ],
      "metadata": {
        "id": "JlkEfPfiE7wH"
      }
    },
    {
      "cell_type": "code",
      "source": [
        "%%writefile dataset.py\n",
        "class Dataset:\n",
        "  def __init__(self): #co the khong can tao init cung duoc\n",
        "    pass\n",
        "  def input_datas(self, input):\n",
        "    print(f\"du lieu dao vao {input}\")\n",
        "  def labels(self, label):\n",
        "    print(f\"nhan {label}\")\n",
        "if __name__ == '__main__':\n",
        "  Dataset().input_datas(\"behaviour_cust\")\n",
        "  Dataset().labels(\"loyalty\")"
      ],
      "metadata": {
        "colab": {
          "base_uri": "https://localhost:8080/"
        },
        "id": "uc84XNSH9oSi",
        "outputId": "2e0a3339-0779-4e65-b43c-11f4a928a2d4"
      },
      "execution_count": null,
      "outputs": [
        {
          "output_type": "stream",
          "name": "stdout",
          "text": [
            "Writing dataset.py\n"
          ]
        }
      ]
    },
    {
      "cell_type": "code",
      "source": [
        "# train.py\n",
        "from model import DeepLearning\n",
        "from model import Ai as a\n",
        "import dataset\n",
        "if __name__ == '__main__':\n",
        "  DeepLearning(\"ann\",\"classification\").fit(\"predict_churn\",\"rfm\",\"loyalty\",0.1) #bat buoc phai truyen attribute neu da khoi tao\n",
        "  DeepLearning(\"ann\",\"classification\").train_on_epoch(\"predict_churn\",\"rfm\",\"loyalty\",10)\n",
        "  Dataset().labels(\"loyalty\")\n",
        "  a(\"ann\",\"classification\").fit(\"predict_churn\",\"rfm\",\"loyalty\")"
      ],
      "metadata": {
        "colab": {
          "base_uri": "https://localhost:8080/"
        },
        "id": "XG2oyNaA_SZf",
        "outputId": "113e7f2c-d1a6-42f4-a0c8-762717795556"
      },
      "execution_count": null,
      "outputs": [
        {
          "output_type": "stream",
          "name": "stdout",
          "text": [
            "mo hinh predict_churn va feat rfm, nhan loyalty va tham so toc do hoc 0.1\n",
            "mo hinh predict_churn thuoc loai classificationva feat rfm, nhan loyalty voi thuat toan ann va tham so 10\n",
            "nhan loyalty\n",
            "mo hinh predict_churn thuoc loai classificationva feat rfm, nhan loyalty voi thuat toan ann\n"
          ]
        }
      ]
    },
    {
      "cell_type": "code",
      "source": [
        ""
      ],
      "metadata": {
        "id": "vMVyyNWXBQH7"
      },
      "execution_count": null,
      "outputs": []
    }
  ]
}